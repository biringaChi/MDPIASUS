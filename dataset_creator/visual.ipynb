{
 "cells": [
  {
   "cell_type": "code",
   "execution_count": 1,
   "metadata": {},
   "outputs": [],
   "source": [
    "import pandas as pd"
   ]
  },
  {
   "cell_type": "code",
   "execution_count": 203,
   "metadata": {},
   "outputs": [],
   "source": [
    "df = pd.read_csv(\"/Users/Gabriel/Documents/research/experimentaion/dataset_creator/dataset.csv\")"
   ]
  },
  {
   "cell_type": "code",
   "execution_count": 204,
   "metadata": {},
   "outputs": [
    {
     "name": "stdout",
     "output_type": "stream",
     "text": [
      "<class 'str'>\n"
     ]
    }
   ],
   "source": [
    "file_list = [file for file in df[\"sourcecode\"]]\n",
    "print(type(file_list[0]))"
   ]
  },
  {
   "cell_type": "code",
   "execution_count": 209,
   "metadata": {
    "collapsed": true,
    "jupyter": {
     "outputs_hidden": true
    }
   },
   "outputs": [
    {
     "name": "stdout",
     "output_type": "stream",
     "text": [
      "package seedu.addressbook.util;\n",
      "\n",
      "import static org.junit.jupiter.api.Assertions.assertEquals;\n",
      "import static org.junit.jupiter.api.Assertions.assertTrue;\n",
      "import static org.junit.jupiter.api.Assertions.fail;\n",
      "\n",
      "import java.io.IOException;\n",
      "import java.nio.charset.Charset;\n",
      "import java.nio.file.Files;\n",
      "import java.nio.file.Path;\n",
      "import java.nio.file.Paths;\n",
      "import java.util.ArrayList;\n",
      "import java.util.Collections;\n",
      "import java.util.Iterator;\n",
      "import java.util.List;\n",
      "\n",
      "import seedu.addressbook.data.AddressBook;\n",
      "import seedu.addressbook.data.exception.IllegalValueException;\n",
      "import seedu.addressbook.data.person.Address;\n",
      "import seedu.addressbook.data.person.Email;\n",
      "import seedu.addressbook.data.person.Name;\n",
      "import seedu.addressbook.data.person.Person;\n",
      "import seedu.addressbook.data.person.Phone;\n",
      "import seedu.addressbook.data.person.ReadOnlyPerson;\n",
      "import seedu.addressbook.data.person.UniquePersonList.DuplicatePersonException;\n",
      "\n",
      "/**\n",
      " * Utility methods for testing.\n",
      " */\n",
      "public class TestUtil {\n",
      "    /**\n",
      "     * Creates an address book containing the given persons.\n",
      "     */\n",
      "    public static AddressBook createAddressBook(Person... persons) {\n",
      "        AddressBook addressBook = new AddressBook();\n",
      "\n",
      "        for (Person person : persons) {\n",
      "            try {\n",
      "                addressBook.addPerson(person);\n",
      "            } catch (DuplicatePersonException e) {\n",
      "                throw new AssertionError(e);\n",
      "            }\n",
      "        }\n",
      "\n",
      "        return addressBook;\n",
      "    }\n",
      "\n",
      "    /**\n",
      "     * Creates a list of persons.\n",
      "     */\n",
      "    public static List<ReadOnlyPerson> createList(Person...persons) {\n",
      "        List<ReadOnlyPerson> list = new ArrayList<ReadOnlyPerson>();\n",
      "\n",
      "        for (Person person : persons) {\n",
      "            list.add(person);\n",
      "        }\n",
      "\n",
      "        return list;\n",
      "    }\n",
      "\n",
      "    /**\n",
      "     * Creates a copy of the original address book with the same entries\n",
      "     * of Persons and Tags. The Persons and Tags are not cloned.\n",
      "     */\n",
      "    public static AddressBook clone(AddressBook addressBook) {\n",
      "        return new AddressBook(addressBook.getAllPersons());\n",
      "    }\n",
      "\n",
      "    /**\n",
      "     * Returns true if every pair of corresponding elements two iterables are (deeply) identical.\n",
      "     * In other words, the two containers must have the same elements, in the same order.\n",
      "     */\n",
      "    public static <T> boolean isIdentical(Iterable<T> firstIterable, Iterable<T> secondIterable) {\n",
      "        Iterator<T> currentPtr0 = firstIterable.iterator();\n",
      "        Iterator<T> currentPtr1 = secondIterable.iterator();\n",
      "\n",
      "        while (currentPtr0.hasNext() && currentPtr1.hasNext()) {\n",
      "            T val0 = currentPtr0.next();\n",
      "            T val1 = currentPtr1.next();\n",
      "\n",
      "            if (!val0.equals(val1)) {\n",
      "                return false;\n",
      "            }\n",
      "        }\n",
      "\n",
      "        // If any of the two iterables still have elements, then they have different sizes.\n",
      "        return !(currentPtr0.hasNext() || currentPtr1.hasNext());\n",
      "    }\n",
      "\n",
      "    /**\n",
      "     * Returns true if the underlying container behind an iterable is empty.\n",
      "     */\n",
      "    public static <T> boolean isEmpty(Iterable<T> it) {\n",
      "        return !it.iterator().hasNext();\n",
      "    }\n",
      "\n",
      "    /**\n",
      "     * Returns the number of elements in the container behind an iterable.\n",
      "     */\n",
      "    public static <T> int getSize(Iterable<T> it) {\n",
      "        int numberOfElementsSeen = 0;\n",
      "\n",
      "        for (T elem : it) {\n",
      "            numberOfElementsSeen++;\n",
      "        }\n",
      "\n",
      "        return numberOfElementsSeen;\n",
      "    }\n",
      "\n",
      "    /**\n",
      "     * Generates an instance of a {@code Person} from valid test data.\n",
      "     * @return an instance of a {@code Person}.\n",
      "     */\n",
      "    public static Person generateTestPerson() {\n",
      "        try {\n",
      "            return new Person(new Name(Name.EXAMPLE), new Phone(Phone.EXAMPLE, false),\n",
      "                    new Email(Email.EXAMPLE, true), new Address(Address.EXAMPLE, false), Collections.emptySet());\n",
      "        } catch (IllegalValueException e) {\n",
      "            fail(\"test person data should be valid by definition\");\n",
      "            return null;\n",
      "        }\n",
      "    }\n",
      "\n",
      "    /**\n",
      "     * Asserts whether the text in the two given files are the same. Ignores any\n",
      "     * differences in line endings\n",
      "     */\n",
      "    public static void assertTextFilesEqual(Path path1, Path path2) throws IOException {\n",
      "        List<String> list1 = Files.readAllLines(path1, Charset.defaultCharset());\n",
      "        List<String> list2 = Files.readAllLines(path2, Charset.defaultCharset());\n",
      "        assertEquals(String.join(\"\\n\", list1), String.join(\"\\n\", list2));\n",
      "    }\n",
      "\n",
      "    /**\n",
      "     * Asserts that the file given does not exist on the filesystem.\n",
      "     */\n",
      "    public static void assertFileDoesNotExist(String filePath) {\n",
      "        assertTrue(Files.notExists(Paths.get(filePath)));\n",
      "    }\n",
      "}\n",
      "\n"
     ]
    }
   ],
   "source": [
    "print(df[\"sourcecode\"][0])"
   ]
  },
  {
   "cell_type": "code",
   "execution_count": null,
   "metadata": {},
   "outputs": [],
   "source": []
  },
  {
   "cell_type": "code",
   "execution_count": 231,
   "metadata": {},
   "outputs": [],
   "source": [
    "import nltk\n",
    "from nltk.util import ngrams\n",
    "from nltk.tokenize import word_tokenize"
   ]
  },
  {
   "cell_type": "code",
   "execution_count": 213,
   "metadata": {},
   "outputs": [],
   "source": [
    "nltk.download('punkt')\n"
   ]
  },
  {
   "cell_type": "code",
   "execution_count": 251,
   "metadata": {},
   "outputs": [],
   "source": [
    "final = []\n",
    "for file in df[\"sourcecode\"]:\n",
    "    temp = [word for word in file.split()]\n",
    "    final.append(temp)"
   ]
  },
  {
   "cell_type": "code",
   "execution_count": 252,
   "metadata": {},
   "outputs": [
    {
     "name": "stdout",
     "output_type": "stream",
     "text": [
      "['package', 'seedu.addressbook.util;', 'import', 'static', 'org.junit.jupiter.api.Assertions.assertEquals;', 'import', 'static', 'org.junit.jupiter.api.Assertions.assertTrue;', 'import', 'static', 'org.junit.jupiter.api.Assertions.fail;', 'import', 'java.io.IOException;', 'import', 'java.nio.charset.Charset;', 'import', 'java.nio.file.Files;', 'import', 'java.nio.file.Path;', 'import', 'java.nio.file.Paths;', 'import', 'java.util.ArrayList;', 'import', 'java.util.Collections;', 'import', 'java.util.Iterator;', 'import', 'java.util.List;', 'import', 'seedu.addressbook.data.AddressBook;', 'import', 'seedu.addressbook.data.exception.IllegalValueException;', 'import', 'seedu.addressbook.data.person.Address;', 'import', 'seedu.addressbook.data.person.Email;', 'import', 'seedu.addressbook.data.person.Name;', 'import', 'seedu.addressbook.data.person.Person;', 'import', 'seedu.addressbook.data.person.Phone;', 'import', 'seedu.addressbook.data.person.ReadOnlyPerson;', 'import', 'seedu.addressbook.data.person.UniquePersonList.DuplicatePersonException;', '/**', '*', 'Utility', 'methods', 'for', 'testing.', '*/', 'public', 'class', 'TestUtil', '{', '/**', '*', 'Creates', 'an', 'address', 'book', 'containing', 'the', 'given', 'persons.', '*/', 'public', 'static', 'AddressBook', 'createAddressBook(Person...', 'persons)', '{', 'AddressBook', 'addressBook', '=', 'new', 'AddressBook();', 'for', '(Person', 'person', ':', 'persons)', '{', 'try', '{', 'addressBook.addPerson(person);', '}', 'catch', '(DuplicatePersonException', 'e)', '{', 'throw', 'new', 'AssertionError(e);', '}', '}', 'return', 'addressBook;', '}', '/**', '*', 'Creates', 'a', 'list', 'of', 'persons.', '*/', 'public', 'static', 'List<ReadOnlyPerson>', 'createList(Person...persons)', '{', 'List<ReadOnlyPerson>', 'list', '=', 'new', 'ArrayList<ReadOnlyPerson>();', 'for', '(Person', 'person', ':', 'persons)', '{', 'list.add(person);', '}', 'return', 'list;', '}', '/**', '*', 'Creates', 'a', 'copy', 'of', 'the', 'original', 'address', 'book', 'with', 'the', 'same', 'entries', '*', 'of', 'Persons', 'and', 'Tags.', 'The', 'Persons', 'and', 'Tags', 'are', 'not', 'cloned.', '*/', 'public', 'static', 'AddressBook', 'clone(AddressBook', 'addressBook)', '{', 'return', 'new', 'AddressBook(addressBook.getAllPersons());', '}', '/**', '*', 'Returns', 'true', 'if', 'every', 'pair', 'of', 'corresponding', 'elements', 'two', 'iterables', 'are', '(deeply)', 'identical.', '*', 'In', 'other', 'words,', 'the', 'two', 'containers', 'must', 'have', 'the', 'same', 'elements,', 'in', 'the', 'same', 'order.', '*/', 'public', 'static', '<T>', 'boolean', 'isIdentical(Iterable<T>', 'firstIterable,', 'Iterable<T>', 'secondIterable)', '{', 'Iterator<T>', 'currentPtr0', '=', 'firstIterable.iterator();', 'Iterator<T>', 'currentPtr1', '=', 'secondIterable.iterator();', 'while', '(currentPtr0.hasNext()', '&&', 'currentPtr1.hasNext())', '{', 'T', 'val0', '=', 'currentPtr0.next();', 'T', 'val1', '=', 'currentPtr1.next();', 'if', '(!val0.equals(val1))', '{', 'return', 'false;', '}', '}', '//', 'If', 'any', 'of', 'the', 'two', 'iterables', 'still', 'have', 'elements,', 'then', 'they', 'have', 'different', 'sizes.', 'return', '!(currentPtr0.hasNext()', '||', 'currentPtr1.hasNext());', '}', '/**', '*', 'Returns', 'true', 'if', 'the', 'underlying', 'container', 'behind', 'an', 'iterable', 'is', 'empty.', '*/', 'public', 'static', '<T>', 'boolean', 'isEmpty(Iterable<T>', 'it)', '{', 'return', '!it.iterator().hasNext();', '}', '/**', '*', 'Returns', 'the', 'number', 'of', 'elements', 'in', 'the', 'container', 'behind', 'an', 'iterable.', '*/', 'public', 'static', '<T>', 'int', 'getSize(Iterable<T>', 'it)', '{', 'int', 'numberOfElementsSeen', '=', '0;', 'for', '(T', 'elem', ':', 'it)', '{', 'numberOfElementsSeen++;', '}', 'return', 'numberOfElementsSeen;', '}', '/**', '*', 'Generates', 'an', 'instance', 'of', 'a', '{@code', 'Person}', 'from', 'valid', 'test', 'data.', '*', '@return', 'an', 'instance', 'of', 'a', '{@code', 'Person}.', '*/', 'public', 'static', 'Person', 'generateTestPerson()', '{', 'try', '{', 'return', 'new', 'Person(new', 'Name(Name.EXAMPLE),', 'new', 'Phone(Phone.EXAMPLE,', 'false),', 'new', 'Email(Email.EXAMPLE,', 'true),', 'new', 'Address(Address.EXAMPLE,', 'false),', 'Collections.emptySet());', '}', 'catch', '(IllegalValueException', 'e)', '{', 'fail(\"test', 'person', 'data', 'should', 'be', 'valid', 'by', 'definition\");', 'return', 'null;', '}', '}', '/**', '*', 'Asserts', 'whether', 'the', 'text', 'in', 'the', 'two', 'given', 'files', 'are', 'the', 'same.', 'Ignores', 'any', '*', 'differences', 'in', 'line', 'endings', '*/', 'public', 'static', 'void', 'assertTextFilesEqual(Path', 'path1,', 'Path', 'path2)', 'throws', 'IOException', '{', 'List<String>', 'list1', '=', 'Files.readAllLines(path1,', 'Charset.defaultCharset());', 'List<String>', 'list2', '=', 'Files.readAllLines(path2,', 'Charset.defaultCharset());', 'assertEquals(String.join(\"\\\\n\",', 'list1),', 'String.join(\"\\\\n\",', 'list2));', '}', '/**', '*', 'Asserts', 'that', 'the', 'file', 'given', 'does', 'not', 'exist', 'on', 'the', 'filesystem.', '*/', 'public', 'static', 'void', 'assertFileDoesNotExist(String', 'filePath)', '{', 'assertTrue(Files.notExists(Paths.get(filePath)));', '}', '}']\n"
     ]
    }
   ],
   "source": [
    "print(final[0])"
   ]
  },
  {
   "cell_type": "code",
   "execution_count": 289,
   "metadata": {},
   "outputs": [],
   "source": [
    "res = []\n",
    "for file in df[\"sourcecode\"]:\n",
    "    n_grams = ngrams(word_tokenize(file), 2)\n",
    "    res.append([''.join(grams) for grams in n_grams])\n",
    "#     print(type(stuff))"
   ]
  },
  {
   "cell_type": "code",
   "execution_count": 290,
   "metadata": {},
   "outputs": [
    {
     "name": "stdout",
     "output_type": "stream",
     "text": [
      "seedu.addressbook.util;\n"
     ]
    }
   ],
   "source": [
    "print(res[0][1])"
   ]
  },
  {
   "cell_type": "code",
   "execution_count": 281,
   "metadata": {},
   "outputs": [
    {
     "name": "stdout",
     "output_type": "stream",
     "text": [
      "['packageseedu.addressbook.util', 'seedu.addressbook.util;', ';import', 'importstatic', 'staticorg.junit.jupiter.api.Assertions.assertEquals', 'org.junit.jupiter.api.Assertions.assertEquals;', ';import', 'importstatic', 'staticorg.junit.jupiter.api.Assertions.assertTrue', 'org.junit.jupiter.api.Assertions.assertTrue;', ';import', 'importstatic', 'staticorg.junit.jupiter.api.Assertions.fail', 'org.junit.jupiter.api.Assertions.fail;', ';import', 'importjava.io.IOException', 'java.io.IOException;', ';import', 'importjava.nio.charset.Charset', 'java.nio.charset.Charset;', ';import', 'importjava.nio.file.Files', 'java.nio.file.Files;', ';import', 'importjava.nio.file.Path', 'java.nio.file.Path;', ';import', 'importjava.nio.file.Paths', 'java.nio.file.Paths;', ';import', 'importjava.util.ArrayList', 'java.util.ArrayList;', ';import', 'importjava.util.Collections', 'java.util.Collections;', ';import', 'importjava.util.Iterator', 'java.util.Iterator;', ';import', 'importjava.util.List', 'java.util.List;', ';import', 'importseedu.addressbook.data.AddressBook', 'seedu.addressbook.data.AddressBook;', ';import', 'importseedu.addressbook.data.exception.IllegalValueException', 'seedu.addressbook.data.exception.IllegalValueException;', ';import', 'importseedu.addressbook.data.person.Address', 'seedu.addressbook.data.person.Address;', ';import', 'importseedu.addressbook.data.person.Email', 'seedu.addressbook.data.person.Email;', ';import', 'importseedu.addressbook.data.person.Name', 'seedu.addressbook.data.person.Name;', ';import', 'importseedu.addressbook.data.person.Person', 'seedu.addressbook.data.person.Person;', ';import', 'importseedu.addressbook.data.person.Phone', 'seedu.addressbook.data.person.Phone;', ';import', 'importseedu.addressbook.data.person.ReadOnlyPerson', 'seedu.addressbook.data.person.ReadOnlyPerson;', ';import', 'importseedu.addressbook.data.person.UniquePersonList.DuplicatePersonException', 'seedu.addressbook.data.person.UniquePersonList.DuplicatePersonException;', ';/', '/*', '**', '**', '*Utility', 'Utilitymethods', 'methodsfor', 'fortesting', 'testing.', '.*', '*/', '/public', 'publicclass', 'classTestUtil', 'TestUtil{', '{/', '/*', '**', '**', '*Creates', 'Createsan', 'anaddress', 'addressbook', 'bookcontaining', 'containingthe', 'thegiven', 'givenpersons', 'persons.', '.*', '*/', '/public', 'publicstatic', 'staticAddressBook', 'AddressBookcreateAddressBook', 'createAddressBook(', '(Person', 'Person...', '...persons', 'persons)', '){', '{AddressBook', 'AddressBookaddressBook', 'addressBook=', '=new', 'newAddressBook', 'AddressBook(', '()', ');', ';for', 'for(', '(Person', 'Personperson', 'person:', ':persons', 'persons)', '){', '{try', 'try{', '{addressBook.addPerson', 'addressBook.addPerson(', '(person', 'person)', ');', ';}', '}catch', 'catch(', '(DuplicatePersonException', 'DuplicatePersonExceptione', 'e)', '){', '{throw', 'thrownew', 'newAssertionError', 'AssertionError(', '(e', 'e)', ');', ';}', '}}', '}return', 'returnaddressBook', 'addressBook;', ';}', '}/', '/*', '**', '**', '*Creates', 'Createsa', 'alist', 'listof', 'ofpersons', 'persons.', '.*', '*/', '/public', 'publicstatic', 'staticList', 'List<', '<ReadOnlyPerson', 'ReadOnlyPerson>', '>createList', 'createList(', '(Person', 'Person...', '...persons', 'persons)', '){', '{List', 'List<', '<ReadOnlyPerson', 'ReadOnlyPerson>', '>list', 'list=', '=new', 'newArrayList', 'ArrayList<', '<ReadOnlyPerson', 'ReadOnlyPerson>', '>(', '()', ');', ';for', 'for(', '(Person', 'Personperson', 'person:', ':persons', 'persons)', '){', '{list.add', 'list.add(', '(person', 'person)', ');', ';}', '}return', 'returnlist', 'list;', ';}', '}/', '/*', '**', '**', '*Creates', 'Createsa', 'acopy', 'copyof', 'ofthe', 'theoriginal', 'originaladdress', 'addressbook', 'bookwith', 'withthe', 'thesame', 'sameentries', 'entries*', '*of', 'ofPersons', 'Personsand', 'andTags', 'Tags.', '.The', 'ThePersons', 'Personsand', 'andTags', 'Tagsare', 'arenot', 'notcloned', 'cloned.', '.*', '*/', '/public', 'publicstatic', 'staticAddressBook', 'AddressBookclone', 'clone(', '(AddressBook', 'AddressBookaddressBook', 'addressBook)', '){', '{return', 'returnnew', 'newAddressBook', 'AddressBook(', '(addressBook.getAllPersons', 'addressBook.getAllPersons(', '()', '))', ');', ';}', '}/', '/*', '**', '**', '*Returns', 'Returnstrue', 'trueif', 'ifevery', 'everypair', 'pairof', 'ofcorresponding', 'correspondingelements', 'elementstwo', 'twoiterables', 'iterablesare', 'are(', '(deeply', 'deeply)', ')identical', 'identical.', '.*', '*In', 'Inother', 'otherwords', 'words,', ',the', 'thetwo', 'twocontainers', 'containersmust', 'musthave', 'havethe', 'thesame', 'sameelements', 'elements,', ',in', 'inthe', 'thesame', 'sameorder', 'order.', '.*', '*/', '/public', 'publicstatic', 'static<', '<T', 'T>', '>boolean', 'booleanisIdentical', 'isIdentical(', '(Iterable', 'Iterable<', '<T', 'T>', '>firstIterable', 'firstIterable,', ',Iterable', 'Iterable<', '<T', 'T>', '>secondIterable', 'secondIterable)', '){', '{Iterator', 'Iterator<', '<T', 'T>', '>currentPtr0', 'currentPtr0=', '=firstIterable.iterator', 'firstIterable.iterator(', '()', ');', ';Iterator', 'Iterator<', '<T', 'T>', '>currentPtr1', 'currentPtr1=', '=secondIterable.iterator', 'secondIterable.iterator(', '()', ');', ';while', 'while(', '(currentPtr0.hasNext', 'currentPtr0.hasNext(', '()', ')&', '&&', '&currentPtr1.hasNext', 'currentPtr1.hasNext(', '()', '))', '){', '{T', 'Tval0', 'val0=', '=currentPtr0.next', 'currentPtr0.next(', '()', ');', ';T', 'Tval1', 'val1=', '=currentPtr1.next', 'currentPtr1.next(', '()', ');', ';if', 'if(', '(!', '!val0.equals', 'val0.equals(', '(val1', 'val1)', '))', '){', '{return', 'returnfalse', 'false;', ';}', '}}', '}//', '//If', 'Ifany', 'anyof', 'ofthe', 'thetwo', 'twoiterables', 'iterablesstill', 'stillhave', 'haveelements', 'elements,', ',then', 'thenthey', 'theyhave', 'havedifferent', 'differentsizes', 'sizes.', '.return', 'return!', '!(', '(currentPtr0.hasNext', 'currentPtr0.hasNext(', '()', ')||', '||currentPtr1.hasNext', 'currentPtr1.hasNext(', '()', '))', ');', ';}', '}/', '/*', '**', '**', '*Returns', 'Returnstrue', 'trueif', 'ifthe', 'theunderlying', 'underlyingcontainer', 'containerbehind', 'behindan', 'aniterable', 'iterableis', 'isempty', 'empty.', '.*', '*/', '/public', 'publicstatic', 'static<', '<T', 'T>', '>boolean', 'booleanisEmpty', 'isEmpty(', '(Iterable', 'Iterable<', '<T', 'T>', '>it', 'it)', '){', '{return', 'return!', '!it.iterator', 'it.iterator(', '()', ').hasNext', '.hasNext(', '()', ');', ';}', '}/', '/*', '**', '**', '*Returns', 'Returnsthe', 'thenumber', 'numberof', 'ofelements', 'elementsin', 'inthe', 'thecontainer', 'containerbehind', 'behindan', 'aniterable', 'iterable.', '.*', '*/', '/public', 'publicstatic', 'static<', '<T', 'T>', '>int', 'intgetSize', 'getSize(', '(Iterable', 'Iterable<', '<T', 'T>', '>it', 'it)', '){', '{int', 'intnumberOfElementsSeen', 'numberOfElementsSeen=', '=0', '0;', ';for', 'for(', '(T', 'Telem', 'elem:', ':it', 'it)', '){', '{numberOfElementsSeen++', 'numberOfElementsSeen++;', ';}', '}return', 'returnnumberOfElementsSeen', 'numberOfElementsSeen;', ';}', '}/', '/*', '**', '**', '*Generates', 'Generatesan', 'aninstance', 'instanceof', 'ofa', 'a{', '{@', '@code', 'codePerson', 'Person}', '}from', 'fromvalid', 'validtest', 'testdata', 'data.', '.*', '*@', '@return', 'returnan', 'aninstance', 'instanceof', 'ofa', 'a{', '{@', '@code', 'codePerson', 'Person}', '}.', '.*', '*/', '/public', 'publicstatic', 'staticPerson', 'PersongenerateTestPerson', 'generateTestPerson(', '()', '){', '{try', 'try{', '{return', 'returnnew', 'newPerson', 'Person(', '(new', 'newName', 'Name(', '(Name.EXAMPLE', 'Name.EXAMPLE)', '),', ',new', 'newPhone', 'Phone(', '(Phone.EXAMPLE', 'Phone.EXAMPLE,', ',false', 'false)', '),', ',new', 'newEmail', 'Email(', '(Email.EXAMPLE', 'Email.EXAMPLE,', ',true', 'true)', '),', ',new', 'newAddress', 'Address(', '(Address.EXAMPLE', 'Address.EXAMPLE,', ',false', 'false)', '),', ',Collections.emptySet', 'Collections.emptySet(', '()', '))', ');', ';}', '}catch', 'catch(', '(IllegalValueException', 'IllegalValueExceptione', 'e)', '){', '{fail', 'fail(', '(``', '``test', 'testperson', 'persondata', 'datashould', 'shouldbe', 'bevalid', 'validby', 'bydefinition', \"definition''\", \"'')\", ');', ';return', 'returnnull', 'null;', ';}', '}}', '}/', '/*', '**', '**', '*Asserts', 'Assertswhether', 'whetherthe', 'thetext', 'textin', 'inthe', 'thetwo', 'twogiven', 'givenfiles', 'filesare', 'arethe', 'thesame', 'same.', '.Ignores', 'Ignoresany', 'any*', '*differences', 'differencesin', 'inline', 'lineendings', 'endings*', '*/', '/public', 'publicstatic', 'staticvoid', 'voidassertTextFilesEqual', 'assertTextFilesEqual(', '(Path', 'Pathpath1', 'path1,', ',Path', 'Pathpath2', 'path2)', ')throws', 'throwsIOException', 'IOException{', '{List', 'List<', '<String', 'String>', '>list1', 'list1=', '=Files.readAllLines', 'Files.readAllLines(', '(path1', 'path1,', ',Charset.defaultCharset', 'Charset.defaultCharset(', '()', '))', ');', ';List', 'List<', '<String', 'String>', '>list2', 'list2=', '=Files.readAllLines', 'Files.readAllLines(', '(path2', 'path2,', ',Charset.defaultCharset', 'Charset.defaultCharset(', '()', '))', ');', ';assertEquals', 'assertEquals(', '(String.join', 'String.join(', '(``', '``\\\\n', \"\\\\n''\", \"'',\", ',list1', 'list1)', '),', ',String.join', 'String.join(', '(``', '``\\\\n', \"\\\\n''\", \"'',\", ',list2', 'list2)', '))', ');', ';}', '}/', '/*', '**', '**', '*Asserts', 'Assertsthat', 'thatthe', 'thefile', 'filegiven', 'givendoes', 'doesnot', 'notexist', 'existon', 'onthe', 'thefilesystem', 'filesystem.', '.*', '*/', '/public', 'publicstatic', 'staticvoid', 'voidassertFileDoesNotExist', 'assertFileDoesNotExist(', '(String', 'StringfilePath', 'filePath)', '){', '{assertTrue', 'assertTrue(', '(Files.notExists', 'Files.notExists(', '(Paths.get', 'Paths.get(', '(filePath', 'filePath)', '))', '))', ');', ';}', '}}']\n"
     ]
    }
   ],
   "source": [
    "print(res[0])"
   ]
  },
  {
   "cell_type": "code",
   "execution_count": null,
   "metadata": {},
   "outputs": [],
   "source": []
  }
 ],
 "metadata": {
  "kernelspec": {
   "display_name": "Python 3",
   "language": "python",
   "name": "python3"
  },
  "language_info": {
   "codemirror_mode": {
    "name": "ipython",
    "version": 3
   },
   "file_extension": ".py",
   "mimetype": "text/x-python",
   "name": "python",
   "nbconvert_exporter": "python",
   "pygments_lexer": "ipython3",
   "version": "3.9.0"
  }
 },
 "nbformat": 4,
 "nbformat_minor": 4
}
